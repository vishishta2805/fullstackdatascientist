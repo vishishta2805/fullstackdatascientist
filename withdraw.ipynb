{
 "cells": [
  {
   "cell_type": "code",
   "execution_count": 1,
   "id": "104e33b9",
   "metadata": {},
   "outputs": [
    {
     "name": "stdout",
     "output_type": "stream",
     "text": [
      "Balance after withdrawal: 21000\n",
      "Transaction complete.\n"
     ]
    }
   ],
   "source": [
    "try:\n",
    "    bal=int(input(\"Enter the balance: \"))\n",
    "    amt=int(input(\"Enter the amount to withdraw: \"))\n",
    "    if amt>bal:\n",
    "        raise Exception(\"Insufficient Balance\")\n",
    "    bal=bal-amt\n",
    "    print(\"Balance after withdrawal:\",bal)\n",
    "except ValueError:\n",
    "    print(\"Invalid input. Please enter numeric values.\")\n",
    "except Exception as e:\n",
    "    print(e)\n",
    "finally:\n",
    "    print(\"Transaction complete.\")"
   ]
  }
 ],
 "metadata": {
  "kernelspec": {
   "display_name": "base",
   "language": "python",
   "name": "python3"
  },
  "language_info": {
   "codemirror_mode": {
    "name": "ipython",
    "version": 3
   },
   "file_extension": ".py",
   "mimetype": "text/x-python",
   "name": "python",
   "nbconvert_exporter": "python",
   "pygments_lexer": "ipython3",
   "version": "3.13.5"
  }
 },
 "nbformat": 4,
 "nbformat_minor": 5
}
