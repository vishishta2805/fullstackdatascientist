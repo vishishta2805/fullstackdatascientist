{
 "cells": [
  {
   "cell_type": "code",
   "execution_count": 1,
   "id": "f96f7b9b",
   "metadata": {},
   "outputs": [
    {
     "name": "stdout",
     "output_type": "stream",
     "text": [
      "Fibonacci sequence: [0, 1, 1, 2, 3, 5, 8]\n"
     ]
    }
   ],
   "source": [
    "#1\n",
    "def fibonacci(n):\n",
    "    fib = [0, 1]\n",
    "    for _ in range(2, n):\n",
    "        fib.append(fib[-1] + fib[-2])\n",
    "    return fib[:n]\n",
    "\n",
    "n = int(input(\"Enter how many Fibonacci numbers to generate: \"))\n",
    "print(\"Fibonacci sequence:\", fibonacci(n))\n"
   ]
  },
  {
   "cell_type": "code",
   "execution_count": 2,
   "id": "17a52b96",
   "metadata": {},
   "outputs": [
    {
     "name": "stdout",
     "output_type": "stream",
     "text": [
      "Factorial: 11324281178206297831457521158732046228731749579488251990048962825668835325234200766245086213177344000000000000000000\n"
     ]
    }
   ],
   "source": [
    "def factorial(n):\n",
    "    if n == 0 or n == 1:\n",
    "        return 1\n",
    "    return n * factorial(n - 1)\n",
    "\n",
    "num = int(input(\"Enter a number to find its factorial: \"))\n",
    "print(\"Factorial:\", factorial(num))\n"
   ]
  },
  {
   "cell_type": "code",
   "execution_count": 3,
   "id": "e85c61c3",
   "metadata": {},
   "outputs": [
    {
     "name": "stdout",
     "output_type": "stream",
     "text": [
      "Word frequency: {'jnjg': 1, 'glkdwle': 1}\n"
     ]
    }
   ],
   "source": [
    "from collections import Counter\n",
    "\n",
    "def count_unique_words(sentence):\n",
    "    words = sentence.split()\n",
    "    return dict(Counter(words))\n",
    "\n",
    "sentence = input(\"Enter a sentence: \")\n",
    "print(\"Word frequency:\", count_unique_words(sentence))\n"
   ]
  },
  {
   "cell_type": "code",
   "execution_count": 4,
   "id": "89a48db5",
   "metadata": {},
   "outputs": [
    {
     "name": "stdout",
     "output_type": "stream",
     "text": [
      "Grade: A\n"
     ]
    }
   ],
   "source": [
    "def calculate_grade(marks):\n",
    "    avg = sum(marks) / len(marks)\n",
    "    if avg >= 90:\n",
    "        return \"Grade: A+\"\n",
    "    elif avg >= 80:\n",
    "        return \"Grade: A\"\n",
    "    elif avg >= 70:\n",
    "        return \"Grade: B\"\n",
    "    elif avg >= 60:\n",
    "        return \"Grade: C\"\n",
    "    else:\n",
    "        return \"Grade: F\"\n",
    "\n",
    "marks_input = input(\"Enter marks separated by spaces: \")\n",
    "marks = list(map(int, marks_input.split()))\n",
    "print(calculate_grade(marks))\n"
   ]
  },
  {
   "cell_type": "code",
   "execution_count": 5,
   "id": "5828a8c0",
   "metadata": {},
   "outputs": [
    {
     "name": "stdout",
     "output_type": "stream",
     "text": [
      "Second largest number: 56\n"
     ]
    }
   ],
   "source": [
    "def second_largest(nums):\n",
    "    unique = list(set(nums))\n",
    "    unique.sort(reverse=True)\n",
    "    return unique[1] if len(unique) >= 2 else None\n",
    "\n",
    "nums_input = input(\"Enter numbers separated by spaces: \")\n",
    "nums = list(map(int, nums_input.split()))\n",
    "result = second_largest(nums)\n",
    "\n",
    "if result is not None:\n",
    "    print(\"Second largest number:\", result)\n",
    "else:\n",
    "    print(\"Not enough unique numbers.\")\n"
   ]
  },
  {
   "cell_type": "code",
   "execution_count": 9,
   "id": "0a50ff3b",
   "metadata": {},
   "outputs": [
    {
     "name": "stdout",
     "output_type": "stream",
     "text": [
      "Python files: 0\n",
      "Text files: 1\n"
     ]
    }
   ],
   "source": [
    "import os\n",
    "\n",
    "files = os.listdir(\"..\")\n",
    "py_count = sum(1 for f in files if f.endswith(\".py\"))\n",
    "txt_count = sum(1 for f in files if f.endswith(\".txt\"))\n",
    "\n",
    "print(\"Python files:\", py_count)\n",
    "print(\"Text files:\", txt_count)\n"
   ]
  },
  {
   "cell_type": "code",
   "execution_count": 10,
   "id": "18387b42",
   "metadata": {},
   "outputs": [
    {
     "name": "stdout",
     "output_type": "stream",
     "text": [
      "Mean = 90.50\n",
      "Median = 93.0\n",
      "Variance = 91.67\n"
     ]
    }
   ],
   "source": [
    "import statistics\n",
    "\n",
    "scores_input = input(\"Enter exam scores separated by spaces: \")\n",
    "scores = list(map(int, scores_input.split()))\n",
    "\n",
    "mean = statistics.mean(scores)\n",
    "median = statistics.median(scores)\n",
    "variance = statistics.variance(scores)\n",
    "\n",
    "print(f\"Mean = {mean:.2f}\")\n",
    "print(f\"Median = {median}\")\n",
    "print(f\"Variance = {variance:.2f}\")\n"
   ]
  },
  {
   "cell_type": "code",
   "execution_count": 11,
   "id": "96fac987",
   "metadata": {},
   "outputs": [
    {
     "name": "stdout",
     "output_type": "stream",
     "text": [
      "No real roots\n"
     ]
    }
   ],
   "source": [
    "import math\n",
    "\n",
    "a = float(input(\"Enter a: \"))\n",
    "b = float(input(\"Enter b: \"))\n",
    "c = float(input(\"Enter c: \"))\n",
    "\n",
    "discriminant = b**2 - 4*a*c\n",
    "\n",
    "if discriminant < 0:\n",
    "    print(\"No real roots\")\n",
    "else:\n",
    "    root1 = (-b + math.sqrt(discriminant)) / (2*a)\n",
    "    root2 = (-b - math.sqrt(discriminant)) / (2*a)\n",
    "    print(f\"Roots are: {root1:.2f} and {root2:.2f}\")\n"
   ]
  },
  {
   "cell_type": "code",
   "execution_count": 12,
   "id": "6ad15490",
   "metadata": {},
   "outputs": [
    {
     "name": "stdout",
     "output_type": "stream",
     "text": [
      "Sum = 135\n"
     ]
    }
   ],
   "source": [
    "import sys\n",
    "\n",
    "if len(sys.argv) == 4:\n",
    "    nums = list(map(int, sys.argv[1:4]))\n",
    "else:\n",
    "    nums = list(map(int, input(\"Enter 3 numbers separated by space: \").split()))\n",
    "\n",
    "print(\"Sum =\", sum(nums))\n",
    "\n"
   ]
  },
  {
   "cell_type": "code",
   "execution_count": 15,
   "id": "ae229a43",
   "metadata": {},
   "outputs": [
    {
     "name": "stdout",
     "output_type": "stream",
     "text": [
      "you chose Rock and computer chose Paper\n",
      "computer wins\n"
     ]
    }
   ],
   "source": [
    "import random\n",
    "choices=[\"Scissors\",\"Rock\",\"Paper\"]\n",
    "v=input(\"enter your choice\").capitalize()\n",
    "com=random.choice(choices)\n",
    "print(f\"you chose {v} and computer chose {com}\")\n",
    "if val==com:\n",
    "    print(\"it's a tie\")\n",
    "elif (val==\"Rock\" and com==\"Scissors\") or (val==\"Scissors\" and com==\"Paper\") or (val==\"Paper\" and com==\"Rock\"):\n",
    "    print(\"you win\")\n",
    "else:\n",
    "    print(\"computer wins\")"
   ]
  },
  {
   "cell_type": "code",
   "execution_count": 20,
   "id": "ac7cc202",
   "metadata": {},
   "outputs": [
    {
     "name": "stdout",
     "output_type": "stream",
     "text": [
      "You have borrowed Book1.\n",
      "You have returned Book3.\n",
      "{'Book1': 2, 'Book2': 2, 'Book3': 1}\n"
     ]
    }
   ],
   "source": [
    "#library system\n",
    "class Library:\n",
    "    def __init__(self, books):\n",
    "        self.books = books\n",
    "\n",
    "    def borrow(self, title):\n",
    "        if title in self.books and self.books[title] > 0:\n",
    "            self.books[title] -= 1\n",
    "            return f\"You have borrowed {title}.\"\n",
    "        elif title in self.books:\n",
    "            return f\"{title} is currently unavailable.\"\n",
    "        else:\n",
    "            return f\"{title} does not exist in the library.\"\n",
    "\n",
    "    def return_book(self, title):\n",
    "        if title in self.books:\n",
    "            self.books[title] += 1\n",
    "            return f\"You have returned {title}.\"\n",
    "        else:\n",
    "            return f\"{title} does not belong to this library.\"\n",
    "\n",
    "    def display_books(self):\n",
    "        return self.books\n",
    "\n",
    "\n",
    "\n",
    "lib = Library({\"Book1\": 3, \"Book2\": 2, \"Book3\": 0})\n",
    "print(lib.borrow(\"Book1\"))        \n",
    "print(lib.return_book(\"Book3\"))    \n",
    "print(lib.display_books())         \n"
   ]
  },
  {
   "cell_type": "code",
   "execution_count": 21,
   "id": "f2db8fdb",
   "metadata": {},
   "outputs": [
    {
     "name": "stdout",
     "output_type": "stream",
     "text": [
      "Access Granted\n",
      "Deposited 200\n",
      "Withdrew 100\n",
      "Balance: 600\n"
     ]
    }
   ],
   "source": [
    "class ATM:\n",
    "    def __init__(self, pin, balance=0):\n",
    "        self.pin = pin\n",
    "        self.balance = balance\n",
    "        self.is_authenticated = False\n",
    "\n",
    "    def login(self, entered_pin):\n",
    "        if entered_pin == self.pin:\n",
    "            self.is_authenticated = True\n",
    "            return \"Access Granted\"\n",
    "        else:\n",
    "            self.is_authenticated = False\n",
    "            return \"Access Denied. Incorrect PIN.\"\n",
    "\n",
    "    def check_balance(self):\n",
    "        if self.is_authenticated:\n",
    "            return f\"Balance: {self.balance}\"\n",
    "        else:\n",
    "            return \"Please login first.\"\n",
    "\n",
    "    def deposit(self, amount):\n",
    "        if self.is_authenticated:\n",
    "            if amount > 0:\n",
    "                self.balance += amount\n",
    "                return f\"Deposited {amount}\"\n",
    "            else:\n",
    "                return \"Enter a valid amount to deposit.\"\n",
    "        else:\n",
    "            return \"Please login first.\"\n",
    "\n",
    "    def withdraw(self, amount):\n",
    "        if self.is_authenticated:\n",
    "            if amount <= self.balance:\n",
    "                self.balance -= amount\n",
    "                return f\"Withdrew {amount}\"\n",
    "            else:\n",
    "                return \"Insufficient balance.\"\n",
    "        else:\n",
    "            return \"Please login first.\"\n",
    "\n",
    "\n",
    "atm = ATM(1234, 500)\n",
    "print(atm.login(1234))\n",
    "print(atm.deposit(200))\n",
    "print(atm.withdraw(100))\n",
    "print(atm.check_balance())\n"
   ]
  },
  {
   "cell_type": "code",
   "execution_count": 22,
   "id": "b137217c",
   "metadata": {},
   "outputs": [
    {
     "name": "stdout",
     "output_type": "stream",
     "text": [
      "p1 is teaching Python\n",
      "s1 enrolled in Python\n",
      "p1 assigned: Project 1\n",
      "s1 submitted: Project 1\n"
     ]
    }
   ],
   "source": [
    "class Professor:\n",
    "    def __init__(self, name, subject):\n",
    "        self.name = name\n",
    "        self.subject = subject\n",
    "\n",
    "    def teach(self, course):\n",
    "        return f\"{self.name} is teaching {course}\"\n",
    "\n",
    "    def give_assignment(self, task):\n",
    "        return f\"{self.name} assigned: {task}\"\n",
    "\n",
    "\n",
    "class Student:\n",
    "    def __init__(self, name):\n",
    "        self.name = name\n",
    "        self.courses = []\n",
    "        self.assignments = []\n",
    "\n",
    "    def enroll(self, course):\n",
    "        self.courses.append(course)\n",
    "        return f\"{self.name} enrolled in {course}\"\n",
    "\n",
    "    def submit_assignment(self, task):\n",
    "        self.assignments.append(task)\n",
    "        return f\"{self.name} submitted: {task}\"\n",
    "\n",
    "\n",
    "prof = Professor(\"p1\", \"Computer Science\")\n",
    "stud = Student(\"s1\")\n",
    "\n",
    "print(prof.teach(\"Python\"))\n",
    "print(stud.enroll(\"Python\"))\n",
    "print(prof.give_assignment(\"Project 1\"))\n",
    "print(stud.submit_assignment(\"Project 1\"))\n"
   ]
  },
  {
   "cell_type": "code",
   "execution_count": 23,
   "id": "cd35b248",
   "metadata": {},
   "outputs": [
    {
     "name": "stdout",
     "output_type": "stream",
     "text": [
      "Booked 2 tickets for Avatar\n",
      "Cancelled 1 ticket(s) for Avatar\n",
      "Movies: {'Avatar': 9, 'Batman': 5}\n"
     ]
    }
   ],
   "source": [
    "class Cinema:\n",
    "    def __init__(self, movies):\n",
    "        self.movies = movies\n",
    "\n",
    "    def book(self, movie, seats):\n",
    "        if movie in self.movies:\n",
    "            if seats <= self.movies[movie]:\n",
    "                self.movies[movie] -= seats\n",
    "                return f\"Booked {seats} tickets for {movie}\"\n",
    "            else:\n",
    "                return f\"Not enough seats available for {movie}\"\n",
    "        else:\n",
    "            return f\"{movie} is not available\"\n",
    "\n",
    "    def cancel(self, movie, seats):\n",
    "        if movie in self.movies:\n",
    "            self.movies[movie] += seats\n",
    "            return f\"Cancelled {seats} ticket(s) for {movie}\"\n",
    "        else:\n",
    "            return f\"{movie} is not available\"\n",
    "\n",
    "    def show_movies(self):\n",
    "        print(f\"Movies: {self.movies}\")\n",
    "\n",
    "\n",
    "cinema = Cinema({\"Avatar\": 10, \"Batman\": 5})\n",
    "print(cinema.book(\"Avatar\", 2))\n",
    "print(cinema.cancel(\"Avatar\", 1))\n",
    "cinema.show_movies()\n",
    "\n"
   ]
  },
  {
   "cell_type": "code",
   "execution_count": 24,
   "id": "08fd4542",
   "metadata": {},
   "outputs": [
    {
     "name": "stdout",
     "output_type": "stream",
     "text": [
      "Burger added\n",
      "Pizza added\n",
      "Pizza price updated to 250\n",
      "Burger removed\n",
      "Menu: {'Pizza': 250}\n"
     ]
    }
   ],
   "source": [
    "class Menu:\n",
    "    def __init__(self):\n",
    "        self.items = {}\n",
    "\n",
    "    def add_item(self, name, price):\n",
    "        self.items[name] = price\n",
    "        return f\"{name} added\"\n",
    "\n",
    "    def remove_item(self, name):\n",
    "        if name in self.items:\n",
    "            del self.items[name]\n",
    "            return f\"{name} removed\"\n",
    "        else:\n",
    "            return f\"{name} not found in menu\"\n",
    "\n",
    "    def update_price(self, name, new_price):\n",
    "        if name in self.items:\n",
    "            self.items[name] = new_price\n",
    "            return f\"{name} price updated to {new_price}\"\n",
    "        else:\n",
    "            return f\"{name} not found in menu\"\n",
    "\n",
    "    def show_menu(self):\n",
    "        print(f\"Menu: {self.items}\")\n",
    "\n",
    "\n",
    "menu = Menu()\n",
    "print(menu.add_item(\"Burger\", 100))\n",
    "print(menu.add_item(\"Pizza\", 200))\n",
    "print(menu.update_price(\"Pizza\", 250))\n",
    "print(menu.remove_item(\"Burger\"))\n",
    "menu.show_menu()\n"
   ]
  }
 ],
 "metadata": {
  "kernelspec": {
   "display_name": "base",
   "language": "python",
   "name": "python3"
  },
  "language_info": {
   "codemirror_mode": {
    "name": "ipython",
    "version": 3
   },
   "file_extension": ".py",
   "mimetype": "text/x-python",
   "name": "python",
   "nbconvert_exporter": "python",
   "pygments_lexer": "ipython3",
   "version": "3.13.5"
  }
 },
 "nbformat": 4,
 "nbformat_minor": 5
}
