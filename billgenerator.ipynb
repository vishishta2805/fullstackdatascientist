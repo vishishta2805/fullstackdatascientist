{
 "cells": [
  {
   "cell_type": "code",
   "execution_count": 2,
   "id": "cf5edf45",
   "metadata": {},
   "outputs": [
    {
     "name": "stdout",
     "output_type": "stream",
     "text": [
      "Invalid input. Please enter a non-negative integer.\n",
      "Thank you for using the electricity bill calculator.\n"
     ]
    }
   ],
   "source": [
    "units=input(\"Enter the number of units consumed: \")\n",
    "try:\n",
    "    unit=int(units)\n",
    "    if unit<0:\n",
    "        print(\"Invalid input. Please enter a non-negative integer.\")\n",
    "    elif unit<=100:\n",
    "        bill=unit*5\n",
    "        print(\"The electricity bill is:\",bill)\n",
    "    elif unit<=200:\n",
    "        bill=100*5+(unit-100)*7\n",
    "        print(\"The electricity bill is:\",bill)\n",
    "    elif unit>200:\n",
    "        bill=100*5+100*7+(unit-200)*10\n",
    "        print(\"The electricity bill is:\",bill)\n",
    "except ValueError:\n",
    "    print(\"Invalid input. Please enter a non-negative integer.\")\n",
    "finally:\n",
    "    print(\"Thank you for using the electricity bill calculator.\")"
   ]
  }
 ],
 "metadata": {
  "kernelspec": {
   "display_name": "base",
   "language": "python",
   "name": "python3"
  },
  "language_info": {
   "codemirror_mode": {
    "name": "ipython",
    "version": 3
   },
   "file_extension": ".py",
   "mimetype": "text/x-python",
   "name": "python",
   "nbconvert_exporter": "python",
   "pygments_lexer": "ipython3",
   "version": "3.13.5"
  }
 },
 "nbformat": 4,
 "nbformat_minor": 5
}
