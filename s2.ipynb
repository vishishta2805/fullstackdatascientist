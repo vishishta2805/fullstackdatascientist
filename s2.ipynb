{
 "cells": [
  {
   "cell_type": "code",
   "execution_count": 2,
   "id": "dd83f33e",
   "metadata": {},
   "outputs": [
    {
     "name": "stdout",
     "output_type": "stream",
     "text": [
      "item 1 Price:\n",
      "Quantity:\n",
      "item 2 Price:\n",
      "Quantity:\n",
      "item 3 Price:\n",
      "Quantity:\n",
      "Total Bill= 752.0\n"
     ]
    }
   ],
   "source": [
    "i=0\n",
    "total=0\n",
    "for i in range(3):\n",
    "    print('item',i+1,'Price:')\n",
    "    price=float(input())\n",
    "    print('Quantity:')\n",
    "    quantity=int(input())\n",
    "    total+=price*quantity\n",
    "print('Total Bill=',total)\n",
    "    "
   ]
  },
  {
   "cell_type": "code",
   "execution_count": 4,
   "id": "a397d311",
   "metadata": {},
   "outputs": [
    {
     "name": "stdout",
     "output_type": "stream",
     "text": [
      "Addition= 19\n",
      "Subtraction= 11\n",
      "Multiplication= 60\n",
      "Division= 3.75\n",
      "Modulus= 3\n"
     ]
    }
   ],
   "source": [
    "n1= int(input(\"Enter first number: \"))\n",
    "n2= int(input(\"Enter second number: \"))\n",
    "print('Addition=',n1+n2)\n",
    "print('Subtraction=',n1-n2)\n",
    "print('Multiplication=',n1*n2)\n",
    "print('Division=',n1/n2)\n",
    "print('Modulus=',n1%n2)"
   ]
  },
  {
   "cell_type": "code",
   "execution_count": null,
   "id": "732e4f48",
   "metadata": {},
   "outputs": [],
   "source": [
    "n=input('enter marks:')\n",
    "if int(n)>=90:\n",
    "    print('A+')\n",
    "elif int(n)>=80 and int(n)<90:\n",
    "    print('A')\n",
    "elif int(n)>=70 and int(n)<80:\n",
    "    print('B')\n",
    "elif int(n)>=60 and int(n)<70:\n",
    "    print('C')\n",
    "else:\n",
    "    print('Fail')"
   ]
  },
  {
   "cell_type": "code",
   "execution_count": 7,
   "id": "2120fce3",
   "metadata": {},
   "outputs": [
    {
     "name": "stdout",
     "output_type": "stream",
     "text": [
      "Highest marks= 98\n",
      "Lowest marks= 91\n",
      "Average marks= 95.8\n"
     ]
    }
   ],
   "source": [
    "marks=[int(input('enter marks:')) for i in range(5)]\n",
    "print('Highest marks=',max(marks))\n",
    "print('Lowest marks=',min(marks))\n",
    "print('Average marks=',sum(marks)/5)"
   ]
  },
  {
   "cell_type": "code",
   "execution_count": 8,
   "id": "cbbd348e",
   "metadata": {},
   "outputs": [
    {
     "name": "stdout",
     "output_type": "stream",
     "text": [
      "Phone Number of Ravi: 9123456780\n"
     ]
    }
   ],
   "source": [
    "Phonebook = {\"Suhel\": 9876543210, \"Ravi\": 9123456780, \"Anita\": 9988776655}\n",
    "key=input(\"Search Name:\")\n",
    "for k in Phonebook.keys():\n",
    "    if k==key:\n",
    "        print(f\"Phone Number of {k}: {Phonebook[k]}\")\n",
    "        break\n"
   ]
  },
  {
   "cell_type": "code",
   "execution_count": 1,
   "id": "9641326c",
   "metadata": {},
   "outputs": [
    {
     "name": "stdout",
     "output_type": "stream",
     "text": [
      "Simple Interest= 320.0\n"
     ]
    }
   ],
   "source": [
    "principal=int(input('Enter Principal Amount:'))\n",
    "rate=int(input('Enter Rate of Interest:'))\n",
    "time=int(input('Enter Time in year:'))\n",
    "interesttype=input('Enter Type of Interest(Simple/Compound):')\n",
    "if interesttype.lower()=='compound':\n",
    "    amount=principal*(pow((1+rate/100),time))\n",
    "    ci=amount-principal\n",
    "    print('Compound Interest=',ci)\n",
    "else:\n",
    "    si=(principal*rate*time)/100\n",
    "    print('Simple Interest=',si)\n"
   ]
  },
  {
   "cell_type": "code",
   "execution_count": 2,
   "id": "f31b8466",
   "metadata": {},
   "outputs": [
    {
     "name": "stdout",
     "output_type": "stream",
     "text": [
      "Enter amount in multiple of 100\n"
     ]
    }
   ],
   "source": [
    "pin=int(input('Enter 4 digit PIN:'))\n",
    "balance=int(input('Enter Balance:'))\n",
    "withdraw=int(input('Enter Withdraw Amount:'))\n",
    "if withdraw<balance and withdraw%100==0:\n",
    "    balance-=withdraw\n",
    "    print('Collect your cash')\n",
    "    print('Remaining Balance=',balance)\n",
    "elif withdraw>balance:\n",
    "    print('Insufficient Balance')\n",
    "else:\n",
    "    print('Enter amount in multiple of 100')"
   ]
  },
  {
   "cell_type": "code",
   "execution_count": 3,
   "id": "abc50b46",
   "metadata": {},
   "outputs": [
    {
     "name": "stdout",
     "output_type": "stream",
     "text": [
      "Current Books: ['Python Basics', 'AI Fundamentals', 'ml']\n",
      "Total Books: 3\n"
     ]
    }
   ],
   "source": [
    "Books = [\"Python Basics\", \"Data Science\", \"AI Fundamentals\"]\n",
    "\n",
    "new_book = input(\"Enter the book you want to add: \")\n",
    "Books.append(new_book)\n",
    "\n",
    "remove_book = input(\"Enter the book you want to remove: \")\n",
    "if remove_book in Books:\n",
    "    Books.remove(remove_book)\n",
    "else:\n",
    "    print(f\"'{remove_book}' not found in the list.\")\n",
    "\n",
    "print(\"Current Books:\", Books)\n",
    "print(\"Total Books:\", len(Books))\n"
   ]
  },
  {
   "cell_type": "code",
   "execution_count": 9,
   "id": "f73ff282",
   "metadata": {},
   "outputs": [
    {
     "name": "stdout",
     "output_type": "stream",
     "text": [
      "Number of words= 2\n",
      "Number of characters= 25\n",
      "Number of vowels= 3\n"
     ]
    }
   ],
   "source": [
    "str=input('Enter a string:')\n",
    "words=len(str.split())\n",
    "chars=len(str)\n",
    "print('Number of words=',words)\n",
    "print('Number of characters=',chars)\n",
    "vowels=0\n",
    "for ch in str:\n",
    "    if ch in 'aeiouAEIOU':\n",
    "        vowels+=1\n",
    "print('Number of vowels=',vowels)"
   ]
  },
  {
   "cell_type": "code",
   "execution_count": 10,
   "id": "eee50004",
   "metadata": {},
   "outputs": [
    {
     "name": "stdout",
     "output_type": "stream",
     "text": [
      "Encrypted Message: khoor\n"
     ]
    }
   ],
   "source": [
    "message = input(\"Enter the message: \")\n",
    "shift = int(input(\"Enter the shift key: \"))\n",
    "\n",
    "encrypted_message = \"\"\n",
    "\n",
    "for char in message:\n",
    "    if char.isalpha():\n",
    "        if char.isupper():\n",
    "            encrypted_message += chr((ord(char) - 65 + shift) % 26 + 65)\n",
    "        else:\n",
    "            encrypted_message += chr((ord(char) - 97 + shift) % 26 + 97)\n",
    "    else:\n",
    "        encrypted_message += char\n",
    "\n",
    "print(\"Encrypted Message:\", encrypted_message)\n"
   ]
  }
 ],
 "metadata": {
  "kernelspec": {
   "display_name": "base",
   "language": "python",
   "name": "python3"
  },
  "language_info": {
   "codemirror_mode": {
    "name": "ipython",
    "version": 3
   },
   "file_extension": ".py",
   "mimetype": "text/x-python",
   "name": "python",
   "nbconvert_exporter": "python",
   "pygments_lexer": "ipython3",
   "version": "3.13.5"
  }
 },
 "nbformat": 4,
 "nbformat_minor": 5
}
