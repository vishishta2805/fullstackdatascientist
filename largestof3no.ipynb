{
 "cells": [
  {
   "cell_type": "code",
   "execution_count": 3,
   "id": "5168539a",
   "metadata": {},
   "outputs": [
    {
     "name": "stdout",
     "output_type": "stream",
     "text": [
      "332 is the largest number\n",
      "Execution completed.\n"
     ]
    }
   ],
   "source": [
    "try:\n",
    "    no1=int(input(\"Enter 1st number: \"))\n",
    "    no2=int(input(\"Enter 2nd number: \"))\n",
    "    no3=int(input(\"Enter 3rd number: \"))\n",
    "    if no1>=no2 and no1>=no3:\n",
    "        print(f\"{no1} is the largest number\")\n",
    "    elif no2>=no1 and no2>=no3:\n",
    "        print(f\"{no2} is the largest number\")\n",
    "    else:\n",
    "        print(f\"{no3} is the largest number\")\n",
    "except ValueError:\n",
    "    print(\"Invalid input. Please enter integers only.\")\n",
    "finally:\n",
    "    print(\"Execution completed.\")"
   ]
  }
 ],
 "metadata": {
  "kernelspec": {
   "display_name": "base",
   "language": "python",
   "name": "python3"
  },
  "language_info": {
   "codemirror_mode": {
    "name": "ipython",
    "version": 3
   },
   "file_extension": ".py",
   "mimetype": "text/x-python",
   "name": "python",
   "nbconvert_exporter": "python",
   "pygments_lexer": "ipython3",
   "version": "3.13.5"
  }
 },
 "nbformat": 4,
 "nbformat_minor": 5
}
