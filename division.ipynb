{
 "cells": [
  {
   "cell_type": "code",
   "execution_count": 1,
   "id": "f20ea751",
   "metadata": {},
   "outputs": [
    {
     "name": "stdout",
     "output_type": "stream",
     "text": [
      "Invalid input. Please enter integers only.\n",
      "Execution completed.\n"
     ]
    }
   ],
   "source": [
    "try:\n",
    "    no1=int(input(\"Enter 1st number: \"))\n",
    "    no2=int(input(\"Enter 2nd number: \"))\n",
    "    print(no1/no2)\n",
    "except ZeroDivisionError:\n",
    "    print(\"Denominator cannot be zero.\")\n",
    "except ValueError:\n",
    "    print(\"Invalid input. Please enter integers only.\")\n",
    "finally:\n",
    "    print(\"Execution completed.\")"
   ]
  }
 ],
 "metadata": {
  "kernelspec": {
   "display_name": "base",
   "language": "python",
   "name": "python3"
  },
  "language_info": {
   "codemirror_mode": {
    "name": "ipython",
    "version": 3
   },
   "file_extension": ".py",
   "mimetype": "text/x-python",
   "name": "python",
   "nbconvert_exporter": "python",
   "pygments_lexer": "ipython3",
   "version": "3.13.5"
  }
 },
 "nbformat": 4,
 "nbformat_minor": 5
}
