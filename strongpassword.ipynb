{
 "cells": [
  {
   "cell_type": "code",
   "execution_count": 1,
   "id": "c7737979",
   "metadata": {},
   "outputs": [
    {
     "name": "stdout",
     "output_type": "stream",
     "text": [
      "Password is weak.\n"
     ]
    }
   ],
   "source": [
    "import re\n",
    "\n",
    "password = input(\"Enter your password: \")\n",
    "length = len(password) >= 8\n",
    "uppercase = re.search(r\"[A-Z]\", password) is not None\n",
    "lowercase= re.search(r\"[a-z]\", password) is not None\n",
    "digit= re.search(r\"[0-9]\", password) is not None\n",
    "splchar= re.search(r\"[!@#$%^&*(),.?\\\":{}|<>]\", password) is not None\n",
    "\n",
    "if length and uppercase and lowercase and digit and splchar:\n",
    "    print(\"Password is strong.\")\n",
    "else:\n",
    "    print(\"Password is weak.\")\n"
   ]
  }
 ],
 "metadata": {
  "kernelspec": {
   "display_name": "base",
   "language": "python",
   "name": "python3"
  },
  "language_info": {
   "codemirror_mode": {
    "name": "ipython",
    "version": 3
   },
   "file_extension": ".py",
   "mimetype": "text/x-python",
   "name": "python",
   "nbconvert_exporter": "python",
   "pygments_lexer": "ipython3",
   "version": "3.13.5"
  }
 },
 "nbformat": 4,
 "nbformat_minor": 5
}
