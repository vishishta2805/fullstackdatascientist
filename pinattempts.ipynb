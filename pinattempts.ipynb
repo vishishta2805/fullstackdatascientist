{
 "cells": [
  {
   "cell_type": "code",
   "execution_count": 1,
   "id": "017ba5cc",
   "metadata": {},
   "outputs": [
    {
     "name": "stdout",
     "output_type": "stream",
     "text": [
      "Incorrect pin. You have 2 attempts left.\n",
      "Incorrect pin. You have 1 attempts left.\n",
      "Access granted.\n",
      "Execution completed.\n"
     ]
    }
   ],
   "source": [
    "import time\n",
    "try:\n",
    "    attempts=3\n",
    "    crt_pin=3777\n",
    "    pin=int(input(\"Enter your pin: \"))\n",
    "    while pin!=crt_pin and attempts>1:\n",
    "        attempts-=1\n",
    "        print(f\"Incorrect pin. You have {attempts} attempts left.\")\n",
    "        time.sleep(1)\n",
    "        pin=int(input(\"Enter your pin: \"))\n",
    "    else:\n",
    "        if pin==crt_pin:\n",
    "            print(\"Access granted.\")\n",
    "        else:\n",
    "            print(\"Account locked. Please contact the bank.\")\n",
    "except ValueError:\n",
    "    print(\"Invalid input. Please enter numeric pin.\")\n",
    "finally:\n",
    "    print(\"Execution completed.\")\n",
    "        \n",
    "\n"
   ]
  }
 ],
 "metadata": {
  "kernelspec": {
   "display_name": "base",
   "language": "python",
   "name": "python3"
  },
  "language_info": {
   "codemirror_mode": {
    "name": "ipython",
    "version": 3
   },
   "file_extension": ".py",
   "mimetype": "text/x-python",
   "name": "python",
   "nbconvert_exporter": "python",
   "pygments_lexer": "ipython3",
   "version": "3.13.5"
  }
 },
 "nbformat": 4,
 "nbformat_minor": 5
}
