{
 "cells": [
  {
   "cell_type": "code",
   "execution_count": 1,
   "id": "cc149bbf",
   "metadata": {},
   "outputs": [
    {
     "name": "stdout",
     "output_type": "stream",
     "text": [
      "s1\n",
      "s2\n"
     ]
    }
   ],
   "source": [
    "from collections import Counter\n",
    "l=input(\"enter names\").split()\n",
    "names=Counter(l)\n",
    "for name in names:\n",
    "    if names[name]>1:\n",
    "        print(name)\n"
   ]
  }
 ],
 "metadata": {
  "kernelspec": {
   "display_name": "base",
   "language": "python",
   "name": "python3"
  },
  "language_info": {
   "codemirror_mode": {
    "name": "ipython",
    "version": 3
   },
   "file_extension": ".py",
   "mimetype": "text/x-python",
   "name": "python",
   "nbconvert_exporter": "python",
   "pygments_lexer": "ipython3",
   "version": "3.13.5"
  }
 },
 "nbformat": 4,
 "nbformat_minor": 5
}
