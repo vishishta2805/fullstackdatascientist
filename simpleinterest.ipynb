{
 "cells": [
  {
   "cell_type": "code",
   "execution_count": 1,
   "id": "3527b0fd",
   "metadata": {},
   "outputs": [
    {
     "name": "stdout",
     "output_type": "stream",
     "text": [
      "The Simple Interest is: 4739.94\n"
     ]
    }
   ],
   "source": [
    "P = float(input(\"Enter principal amount: \"))\n",
    "R = float(input(\"Enter annual interest rate (%): \"))\n",
    "T = float(input(\"Enter time (years): \"))\n",
    "\n",
    "SI = (P * R * T) / 100\n",
    "print(f\"The Simple Interest is: {SI}\")\n"
   ]
  }
 ],
 "metadata": {
  "kernelspec": {
   "display_name": "base",
   "language": "python",
   "name": "python3"
  },
  "language_info": {
   "codemirror_mode": {
    "name": "ipython",
    "version": 3
   },
   "file_extension": ".py",
   "mimetype": "text/x-python",
   "name": "python",
   "nbconvert_exporter": "python",
   "pygments_lexer": "ipython3",
   "version": "3.13.5"
  }
 },
 "nbformat": 4,
 "nbformat_minor": 5
}
