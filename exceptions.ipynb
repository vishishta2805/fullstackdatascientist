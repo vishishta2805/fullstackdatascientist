{
 "cells": [
  {
   "cell_type": "code",
   "execution_count": 1,
   "id": "bb4ac22c",
   "metadata": {},
   "outputs": [
    {
     "name": "stdout",
     "output_type": "stream",
     "text": [
      "Division by zero is not allowed.\n",
      "Execution completed.\n"
     ]
    }
   ],
   "source": [
    "try:\n",
    "    n=int(input(\"Enter a number: \"))\n",
    "    print(n/0)\n",
    "except ZeroDivisionError:\n",
    "    print(\"Division by zero is not allowed.\")\n",
    "except ValueError:\n",
    "    print(\"Invalid input. Please enter a valid integer.\")\n",
    "finally:\n",
    "    print(\"Execution completed.\")"
   ]
  }
 ],
 "metadata": {
  "kernelspec": {
   "display_name": "base",
   "language": "python",
   "name": "python3"
  },
  "language_info": {
   "codemirror_mode": {
    "name": "ipython",
    "version": 3
   },
   "file_extension": ".py",
   "mimetype": "text/x-python",
   "name": "python",
   "nbconvert_exporter": "python",
   "pygments_lexer": "ipython3",
   "version": "3.13.5"
  }
 },
 "nbformat": 4,
 "nbformat_minor": 5
}
