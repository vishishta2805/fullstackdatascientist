{
 "cells": [
  {
   "cell_type": "code",
   "execution_count": 1,
   "id": "189acf36",
   "metadata": {},
   "outputs": [
    {
     "name": "stdout",
     "output_type": "stream",
     "text": [
      "90\n",
      "-7\n"
     ]
    }
   ],
   "source": [
    "l=input().split()\n",
    "l1=list(map(int,l))\n",
    "print(max(l1))\n",
    "print(min(l1))"
   ]
  },
  {
   "cell_type": "code",
   "execution_count": null,
   "id": "917464af",
   "metadata": {},
   "outputs": [],
   "source": []
  }
 ],
 "metadata": {
  "kernelspec": {
   "display_name": "base",
   "language": "python",
   "name": "python3"
  },
  "language_info": {
   "codemirror_mode": {
    "name": "ipython",
    "version": 3
   },
   "file_extension": ".py",
   "mimetype": "text/x-python",
   "name": "python",
   "nbconvert_exporter": "python",
   "pygments_lexer": "ipython3",
   "version": "3.13.5"
  }
 },
 "nbformat": 4,
 "nbformat_minor": 5
}
