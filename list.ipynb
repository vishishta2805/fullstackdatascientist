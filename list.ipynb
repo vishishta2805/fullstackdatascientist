{
 "cells": [
  {
   "cell_type": "code",
   "execution_count": 7,
   "id": "ae42cc7d",
   "metadata": {},
   "outputs": [
    {
     "name": "stdout",
     "output_type": "stream",
     "text": [
      "positive values:3, negative values:2, zeroes:1\n"
     ]
    }
   ],
   "source": [
    "l=input().split()\n",
    "l1=list(map(int,l))\n",
    "p,n,z=0,0,0\n",
    "for i in l1:\n",
    "    if i>0:\n",
    "        p+=1\n",
    "    elif i<0:\n",
    "        n+=1\n",
    "    else:\n",
    "        z+=1\n",
    "print(f\"positive values:{p}, negative values:{n}, zeroes:{z}\")"
   ]
  },
  {
   "cell_type": "code",
   "execution_count": null,
   "id": "45786eed",
   "metadata": {},
   "outputs": [],
   "source": []
  }
 ],
 "metadata": {
  "kernelspec": {
   "display_name": "base",
   "language": "python",
   "name": "python3"
  },
  "language_info": {
   "codemirror_mode": {
    "name": "ipython",
    "version": 3
   },
   "file_extension": ".py",
   "mimetype": "text/x-python",
   "name": "python",
   "nbconvert_exporter": "python",
   "pygments_lexer": "ipython3",
   "version": "3.13.5"
  }
 },
 "nbformat": 4,
 "nbformat_minor": 5
}
