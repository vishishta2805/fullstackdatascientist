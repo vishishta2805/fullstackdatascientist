{
 "cells": [
  {
   "cell_type": "code",
   "execution_count": 2,
   "id": "ee67a7cb",
   "metadata": {},
   "outputs": [
    {
     "name": "stdout",
     "output_type": "stream",
     "text": [
      "hi\n"
     ]
    }
   ],
   "source": [
    "print('hi')"
   ]
  },
  {
   "cell_type": "code",
   "execution_count": 9,
   "id": "cd92bb12",
   "metadata": {},
   "outputs": [
    {
     "name": "stdout",
     "output_type": "stream",
     "text": [
      "uoy si niatnuom eht\n"
     ]
    }
   ],
   "source": [
    "s=\"the mountain is you\"\n",
    "print(\"\".join(reversed(s)))"
   ]
  },
  {
   "cell_type": "code",
   "execution_count": 10,
   "id": "8d67f128",
   "metadata": {},
   "outputs": [
    {
     "name": "stdout",
     "output_type": "stream",
     "text": [
      "nohtyp ot noitcudortni\n"
     ]
    }
   ],
   "source": [
    "name=list(input('enter name:'))\n",
    "name.reverse();\n",
    "print(\"\".join(name))\n"
   ]
  },
  {
   "cell_type": "code",
   "execution_count": 16,
   "id": "e094202c",
   "metadata": {},
   "outputs": [
    {
     "name": "stdout",
     "output_type": "stream",
     "text": [
      "armstrong\n"
     ]
    }
   ],
   "source": [
    "no=int(input('enter a number:'))\n",
    "original=no\n",
    "sum=0\n",
    "while(no>0):\n",
    "    rem=no%10\n",
    "    sum=sum+(rem*rem*rem)\n",
    "    no=no//10\n",
    "if sum==original:\n",
    "    print('armstrong')\n",
    "else:\n",
    "    print(\"not an armstrong\")\n",
    "\n"
   ]
  },
  {
   "cell_type": "code",
   "execution_count": 24,
   "id": "0ecea990",
   "metadata": {},
   "outputs": [
    {
     "name": "stdout",
     "output_type": "stream",
     "text": [
      "vowels: 10\n",
      "consonants: 7\n"
     ]
    }
   ],
   "source": [
    "s=input('enter a string:')\n",
    "c,v=0,0\n",
    "for ch in s:\n",
    "    if ch.isalpha():\n",
    "        if ch in 'aeiouAEIOU':\n",
    "            c=c+1\n",
    "        else:\n",
    "            v=v+1\n",
    "print('vowels:',v)\n",
    "print('consonants:',c)"
   ]
  },
  {
   "cell_type": "code",
   "execution_count": 26,
   "id": "cd9bc1ca",
   "metadata": {},
   "outputs": [
    {
     "name": "stdout",
     "output_type": "stream",
     "text": [
      "5 * 1 = 5\n",
      "5 * 2 = 10\n",
      "5 * 3 = 15\n",
      "5 * 4 = 20\n",
      "5 * 5 = 25\n",
      "5 * 6 = 30\n",
      "5 * 7 = 35\n",
      "5 * 8 = 40\n",
      "5 * 9 = 45\n",
      "5 * 10 = 50\n"
     ]
    }
   ],
   "source": [
    "no=int(input('enter number:'))\n",
    "for i in range(1,11):\n",
    "    print(no,'*',i,'=',no*i)"
   ]
  },
  {
   "cell_type": "code",
   "execution_count": 27,
   "id": "cc6683b3",
   "metadata": {},
   "outputs": [
    {
     "name": "stdout",
     "output_type": "stream",
     "text": [
      "2033 is not a leap year\n"
     ]
    }
   ],
   "source": [
    "year=int(input('enter year:'))\n",
    "if((year%4==0 and year%100!=0) or (year%400==0)):\n",
    "    print(year,'is a leap year')\n",
    "else:\n",
    "    print(year,'is not a leap year')"
   ]
  },
  {
   "cell_type": "code",
   "execution_count": 34,
   "id": "8be1c18a",
   "metadata": {},
   "outputs": [
    {
     "name": "stdout",
     "output_type": "stream",
     "text": [
      "largest number is: 6\n"
     ]
    }
   ],
   "source": [
    "nos=input('enter 5 numbers separated by commas:')\n",
    "arr=nos.split(',')\n",
    "res=-10**100\n",
    "for i in range(0,5):\n",
    "    var=int(arr[i])\n",
    "    if(var>res):\n",
    "        res=var\n",
    "print('largest number is:',res)"
   ]
  },
  {
   "cell_type": "code",
   "execution_count": 36,
   "id": "03e393a4",
   "metadata": {},
   "outputs": [
    {
     "name": "stdout",
     "output_type": "stream",
     "text": [
      "54 is not a prime number\n"
     ]
    }
   ],
   "source": [
    "no=int(input('enter number:'))\n",
    "cnt=0\n",
    "for i in range(1,no+1):\n",
    "    if no%i==0:\n",
    "        cnt+=1\n",
    "if cnt==2:\n",
    "    print(no,'is a prime number')\n",
    "else:\n",
    "    print(no,'is not a prime number')"
   ]
  },
  {
   "cell_type": "code",
   "execution_count": 38,
   "id": "8bb31f15",
   "metadata": {},
   "outputs": [
    {
     "name": "stdout",
     "output_type": "stream",
     "text": [
      "enter 5 names:\n",
      "second highest score: 65\n"
     ]
    }
   ],
   "source": [
    "no=int(input('enter no of entries:'))\n",
    "print('enter',no,'names:')\n",
    "list=[]\n",
    "for i in range(no):\n",
    "    name=input()\n",
    "    list.append(name)\n",
    "list.sort()\n",
    "print('second highest score:',list[-2])"
   ]
  },
  {
   "cell_type": "code",
   "execution_count": 40,
   "id": "7ab507d5",
   "metadata": {},
   "outputs": [
    {
     "name": "stdout",
     "output_type": "stream",
     "text": [
      "sum of even numbers from 1 to 50 is: 650\n"
     ]
    }
   ],
   "source": [
    "sum=0\n",
    "for i in range(0,51,2):\n",
    "    sum+=i\n",
    "print('sum of even numbers from 1 to 50 is:',sum)"
   ]
  },
  {
   "cell_type": "code",
   "execution_count": 47,
   "id": "5b6a5510",
   "metadata": {},
   "outputs": [
    {
     "name": "stdout",
     "output_type": "stream",
     "text": [
      "lowercase letters: 6\n",
      "uppercase letters: 5\n"
     ]
    }
   ],
   "source": [
    "u,l=0,0\n",
    "s=(input('enter a string:'))\n",
    "for ch in s:\n",
    "    if ch.isalpha():\n",
    "        if ch.islower():\n",
    "            l+=1\n",
    "        elif ch.isupper():\n",
    "            u+=1\n",
    "print('lowercase letters:',l)\n",
    "print('uppercase letters:',u)"
   ]
  },
  {
   "cell_type": "code",
   "execution_count": 48,
   "id": "ab05d127",
   "metadata": {},
   "outputs": [
    {
     "name": "stdout",
     "output_type": "stream",
     "text": [
      "0\n",
      "1\n",
      "1\n",
      "2\n",
      "3\n",
      "5\n",
      "8\n",
      "13\n",
      "21\n",
      "34\n",
      "55\n",
      "89\n",
      "144\n",
      "233\n",
      "377\n",
      "610\n",
      "987\n",
      "1597\n",
      "2584\n",
      "4181\n",
      "6765\n",
      "10946\n",
      "17711\n",
      "28657\n",
      "46368\n",
      "75025\n",
      "121393\n",
      "196418\n",
      "317811\n",
      "514229\n",
      "832040\n",
      "1346269\n",
      "2178309\n",
      "3524578\n",
      "5702887\n",
      "9227465\n",
      "14930352\n",
      "24157817\n",
      "39088169\n",
      "63245986\n",
      "102334155\n",
      "165580141\n",
      "267914296\n",
      "433494437\n",
      "701408733\n",
      "1134903170\n",
      "1836311903\n",
      "2971215073\n",
      "4807526976\n",
      "7778742049\n",
      "12586269025\n",
      "20365011074\n",
      "32951280099\n",
      "53316291173\n",
      "86267571272\n",
      "139583862445\n",
      "225851433717\n",
      "365435296162\n",
      "591286729879\n",
      "956722026041\n",
      "1548008755920\n",
      "2504730781961\n",
      "4052739537881\n",
      "6557470319842\n"
     ]
    }
   ],
   "source": [
    "no=int(input('enter no for fib sequence:'))\n",
    "a,b=0,1\n",
    "print(a)\n",
    "print(b)\n",
    "for i in range(2,no):\n",
    "    c=a+b\n",
    "    print(c)\n",
    "    a=b\n",
    "    b=c\n"
   ]
  },
  {
   "cell_type": "code",
   "execution_count": 49,
   "id": "bf4e8e45",
   "metadata": {},
   "outputs": [
    {
     "name": "stdout",
     "output_type": "stream",
     "text": [
      "anagrams\n"
     ]
    }
   ],
   "source": [
    "s1=input('enter first string:')\n",
    "s2=input('enter second string:')\n",
    "if sorted(s1)==sorted(s2):\n",
    "    print('anagrams')\n",
    "else:\n",
    "    print('not anagrams')\n",
    "    \n"
   ]
  },
  {
   "cell_type": "code",
   "execution_count": 51,
   "id": "468476c5",
   "metadata": {},
   "outputs": [
    {
     "name": "stdout",
     "output_type": "stream",
     "text": [
      "876 is not a perfect number\n"
     ]
    }
   ],
   "source": [
    "no=int(input('enter number:'))\n",
    "for i in range(1,no+1):\n",
    "    if no%i==0:\n",
    "        c+=1\n",
    "if c==no:\n",
    "    print(no,'is a perfect number')\n",
    "else:\n",
    "    print(no,'is not a perfect number')"
   ]
  },
  {
   "cell_type": "code",
   "execution_count": 53,
   "id": "1a5fb9fb",
   "metadata": {},
   "outputs": [
    {
     "name": "stdout",
     "output_type": "stream",
     "text": [
      "grade A\n"
     ]
    }
   ],
   "source": [
    "no=int(input('enter number of subjects:'))\n",
    "sum=0\n",
    "for i in range(no):\n",
    "    sum=sum+int(input())\n",
    "per=sum/no\n",
    "if per>=90:\n",
    "    print('grade A')\n",
    "elif per>=75:\n",
    "    print('grade B')\n",
    "elif per>=50:\n",
    "    print('grade C')\n",
    "else:\n",
    "    print('grade F')"
   ]
  },
  {
   "cell_type": "code",
   "execution_count": 57,
   "id": "3f8ab47c",
   "metadata": {},
   "outputs": [
    {
     "name": "stdout",
     "output_type": "stream",
     "text": [
      "2\n",
      "3\n",
      "5\n",
      "7\n",
      "11\n",
      "13\n",
      "17\n",
      "19\n",
      "23\n",
      "29\n",
      "31\n",
      "37\n",
      "41\n",
      "43\n",
      "47\n",
      "53\n",
      "59\n",
      "61\n",
      "67\n",
      "71\n",
      "73\n",
      "79\n",
      "83\n",
      "89\n",
      "97\n"
     ]
    }
   ],
   "source": [
    "\n",
    "for i in range(1,101):\n",
    "    cnt=0\n",
    "    for j in range(1,i+1):\n",
    "        if i%j==0:\n",
    "            cnt+=1\n",
    "    if cnt==2:\n",
    "        print(i)\n",
    "        "
   ]
  },
  {
   "cell_type": "code",
   "execution_count": 61,
   "id": "22ba5a4f",
   "metadata": {},
   "outputs": [
    {
     "name": "stdout",
     "output_type": "stream",
     "text": [
      "final ticket price: 128.6\n"
     ]
    }
   ],
   "source": [
    "p,age,sts=input('ticket price, age, and student status (yes/no)').split(',')\n",
    "if(int(age)>=60):\n",
    "    p=10/100*int(p)\n",
    "if(sts=='yes'):\n",
    "    p=20/100*int(p)\n",
    "print('final ticket price:',p)"
   ]
  },
  {
   "cell_type": "code",
   "execution_count": null,
   "id": "6f191114",
   "metadata": {},
   "outputs": [
    {
     "name": "stdout",
     "output_type": "stream",
     "text": [
      "free delivery,cart price: 876\n"
     ]
    }
   ],
   "source": [
    "cartprice=int(input('enter cart price:'))\n",
    "if cartprice>500:\n",
    "    print('free delivery,cart price:',cartprice)\n",
    "else:\n",
    "    print('delivery charge 50,cart price:',cartprice+50)"
   ]
  }
 ],
 "metadata": {
  "kernelspec": {
   "display_name": "venv",
   "language": "python",
   "name": "python3"
  },
  "language_info": {
   "codemirror_mode": {
    "name": "ipython",
    "version": 3
   },
   "file_extension": ".py",
   "mimetype": "text/x-python",
   "name": "python",
   "nbconvert_exporter": "python",
   "pygments_lexer": "ipython3",
   "version": "3.11.0"
  }
 },
 "nbformat": 4,
 "nbformat_minor": 5
}
