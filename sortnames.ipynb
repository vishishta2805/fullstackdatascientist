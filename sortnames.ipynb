{
 "cells": [
  {
   "cell_type": "code",
   "execution_count": 1,
   "id": "fd2ee13f",
   "metadata": {},
   "outputs": [
    {
     "name": "stdout",
     "output_type": "stream",
     "text": [
      "Sorted names:\n",
      "raju\n",
      "ram\n",
      "ravi\n"
     ]
    }
   ],
   "source": [
    "names = []\n",
    "\n",
    "n = int(input(\"How many names do you want to enter? \"))\n",
    "for _ in range(n):\n",
    "    name = input(\"Enter name: \")\n",
    "    names.append(name)\n",
    "names.sort()\n",
    "print(\"Sorted names:\")\n",
    "for name in names:\n",
    "    print(name)\n"
   ]
  }
 ],
 "metadata": {
  "kernelspec": {
   "display_name": "base",
   "language": "python",
   "name": "python3"
  },
  "language_info": {
   "codemirror_mode": {
    "name": "ipython",
    "version": 3
   },
   "file_extension": ".py",
   "mimetype": "text/x-python",
   "name": "python",
   "nbconvert_exporter": "python",
   "pygments_lexer": "ipython3",
   "version": "3.13.5"
  }
 },
 "nbformat": 4,
 "nbformat_minor": 5
}
