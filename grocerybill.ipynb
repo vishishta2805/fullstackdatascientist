{
 "cells": [
  {
   "cell_type": "code",
   "execution_count": 1,
   "id": "49a8cc92",
   "metadata": {},
   "outputs": [
    {
     "name": "stdout",
     "output_type": "stream",
     "text": [
      "Total bill: ₹115\n"
     ]
    }
   ],
   "source": [
    "items = {\n",
    "    \"apple\": 30,\n",
    "    \"banana\": 10,\n",
    "    \"milk\": 50,\n",
    "    \"bread\": 25\n",
    "}\n",
    "\n",
    "total = sum(items.values())\n",
    "print(f\"Total bill: ₹{total}\")\n"
   ]
  }
 ],
 "metadata": {
  "kernelspec": {
   "display_name": "base",
   "language": "python",
   "name": "python3"
  },
  "language_info": {
   "codemirror_mode": {
    "name": "ipython",
    "version": 3
   },
   "file_extension": ".py",
   "mimetype": "text/x-python",
   "name": "python",
   "nbconvert_exporter": "python",
   "pygments_lexer": "ipython3",
   "version": "3.13.5"
  }
 },
 "nbformat": 4,
 "nbformat_minor": 5
}
